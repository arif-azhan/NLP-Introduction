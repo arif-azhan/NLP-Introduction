{
  "nbformat": 4,
  "nbformat_minor": 0,
  "metadata": {
    "colab": {
      "provenance": [],
      "authorship_tag": "ABX9TyP2NOjDNqHl9AzbC/1P9Ht0",
      "include_colab_link": true
    },
    "kernelspec": {
      "name": "python3",
      "display_name": "Python 3"
    },
    "language_info": {
      "name": "python"
    }
  },
  "cells": [
    {
      "cell_type": "markdown",
      "metadata": {
        "id": "view-in-github",
        "colab_type": "text"
      },
      "source": [
        "<a href=\"https://colab.research.google.com/github/arif-azhan/NLP-Introduction/blob/main/nlp_basics_preprocessing.ipynb\" target=\"_parent\"><img src=\"https://colab.research.google.com/assets/colab-badge.svg\" alt=\"Open In Colab\"/></a>"
      ]
    },
    {
      "cell_type": "code",
      "source": [
        "# Natural Language Processing - Text and Speech Preprocessing\n",
        "# ------------------------------------------------------------\n",
        "# This project demonstrates key preprocessing steps in NLP using NLTK.\n",
        "# It includes tokenization, stemming, lemmatization, and sentence splitting.\n",
        "\n",
        "import nltk\n",
        "# Download the necessary NLTK data package\n",
        "nltk.download('punkt_tab')"
      ],
      "metadata": {
        "colab": {
          "base_uri": "https://localhost:8080/"
        },
        "id": "Dy_dtM5av1tz",
        "outputId": "5ab14817-9ac6-422b-d2b9-6d437af21253"
      },
      "execution_count": 21,
      "outputs": [
        {
          "output_type": "stream",
          "name": "stderr",
          "text": [
            "[nltk_data] Downloading package punkt_tab to /root/nltk_data...\n",
            "[nltk_data]   Package punkt_tab is already up-to-date!\n"
          ]
        },
        {
          "output_type": "execute_result",
          "data": {
            "text/plain": [
              "True"
            ]
          },
          "metadata": {},
          "execution_count": 21
        }
      ]
    },
    {
      "cell_type": "code",
      "source": [
        "# ------------------------------------------------------------\n",
        "# ## Tokenization - Word Tokenizer\n",
        "# ------------------------------------------------------------\n",
        "\n",
        "from nltk.tokenize import word_tokenize\n",
        "\n",
        "sentence = \"Natural Language Processing, for  speech and text.\"\n",
        "# Tokenizing words\n",
        "tokens = word_tokenize(sentence)\n",
        "print(tokens)"
      ],
      "metadata": {
        "colab": {
          "base_uri": "https://localhost:8080/"
        },
        "id": "cEot3ceHwkxu",
        "outputId": "12469695-2830-4f17-b358-81c9d7cf9889"
      },
      "execution_count": 22,
      "outputs": [
        {
          "output_type": "stream",
          "name": "stdout",
          "text": [
            "['Natural', 'Language', 'Processing', ',', 'for', 'speech', 'and', 'text', '.']\n"
          ]
        }
      ]
    },
    {
      "cell_type": "code",
      "source": [
        "# ------------------------------------------------------------\n",
        "# ## Tokenization - Regular Expression Tokenizer\n",
        "# ------------------------------------------------------------\n",
        "\n",
        "from nltk.tokenize import RegexpTokenizer\n",
        "\n",
        "# Tokenizing words using a regular expression (gaps=true matches splits)\n",
        "tokenizer = RegexpTokenizer(r'\\s+', gaps=True)\n",
        "tokens = tokenizer.tokenize(sentence)\n",
        "print(tokens)"
      ],
      "metadata": {
        "colab": {
          "base_uri": "https://localhost:8080/"
        },
        "id": "6Y2Qf05-xoYr",
        "outputId": "0e8166e5-013c-4f19-d7c2-39f04183c28b"
      },
      "execution_count": 23,
      "outputs": [
        {
          "output_type": "stream",
          "name": "stdout",
          "text": [
            "['Natural', 'Language', 'Processing,', 'for', 'speech', 'and', 'text.']\n"
          ]
        }
      ]
    },
    {
      "cell_type": "code",
      "source": [
        "# ------------------------------------------------------------\n",
        "# ## Sentence Tokenization\n",
        "# ------------------------------------------------------------\n",
        "\n",
        "from nltk.tokenize import sent_tokenize\n",
        "\n",
        "sentences = sent_tokenize(sentence)\n",
        "print(sentences)"
      ],
      "metadata": {
        "colab": {
          "base_uri": "https://localhost:8080/"
        },
        "id": "um9EnH8DyfDF",
        "outputId": "861131cd-a59e-4831-aede-d53beeefaf52"
      },
      "execution_count": 24,
      "outputs": [
        {
          "output_type": "stream",
          "name": "stdout",
          "text": [
            "['Natural Language Processing, for  speech and text.']\n"
          ]
        }
      ]
    },
    {
      "cell_type": "code",
      "source": [
        "# ------------------------------------------------------------\n",
        "# ## Stemming - Porter Stemmer\n",
        "# ------------------------------------------------------------\n",
        "from nltk.stem import PorterStemmer\n",
        "\n",
        "words = ['processed', 'processing', 'processes', 'preprocessed']\n",
        "\n",
        "# Initialize Porter Stemmer\n",
        "stemmer = PorterStemmer()\n",
        "stems = [stemmer.stem(word) for word in words]\n",
        "print(stems)"
      ],
      "metadata": {
        "id": "Y-wxR9XLyjDs",
        "colab": {
          "base_uri": "https://localhost:8080/"
        },
        "outputId": "1e4fccaa-8960-49d7-b1cc-41af137b9b58"
      },
      "execution_count": 25,
      "outputs": [
        {
          "output_type": "stream",
          "name": "stdout",
          "text": [
            "['process', 'process', 'process', 'preprocess']\n"
          ]
        }
      ]
    },
    {
      "cell_type": "code",
      "source": [
        "# ------------------------------------------------------------\n",
        "# ## Lemmatization - WordNet Lemmatizer\n",
        "# ------------------------------------------------------------\n",
        "\n",
        "from nltk.stem import WordNetLemmatizer\n",
        "from nltk.corpus import wordnet\n",
        "nltk.download('wordnet')\n",
        "\n",
        "words = [\"beginning\", \"began\", \"begun\", \"begins\"]\n",
        "\n",
        "lemmatizer = WordNetLemmatizer()\n",
        "\n",
        "# Lemmatize words with the verb part-of-speech\n",
        "lemmas = [lemmatizer.lemmatize(word, pos=wordnet.VERB) for word in words]\n",
        "print(\"Verb Lemmas:\", lemmas)\n",
        "\n",
        "# Lemmatize words with the noun part-of-speech\n",
        "lemmas = [lemmatizer.lemmatize(word, pos=wordnet.NOUN) for word in words]\n",
        "print(\"Noun Lemmas:\", lemmas)"
      ],
      "metadata": {
        "colab": {
          "base_uri": "https://localhost:8080/"
        },
        "id": "kl2d01gWXZ1q",
        "outputId": "44a6dda3-24e0-4bee-8afb-6df2ea452980"
      },
      "execution_count": 26,
      "outputs": [
        {
          "output_type": "stream",
          "name": "stdout",
          "text": [
            "Verb Lemmas: ['begin', 'begin', 'begin', 'begin']\n",
            "Noun Lemmas: ['beginning', 'began', 'begun', 'begin']\n"
          ]
        },
        {
          "output_type": "stream",
          "name": "stderr",
          "text": [
            "[nltk_data] Downloading package wordnet to /root/nltk_data...\n",
            "[nltk_data]   Package wordnet is already up-to-date!\n"
          ]
        }
      ]
    },
    {
      "cell_type": "markdown",
      "source": [],
      "metadata": {
        "id": "DqVW0RsdycVp"
      }
    }
  ]
}